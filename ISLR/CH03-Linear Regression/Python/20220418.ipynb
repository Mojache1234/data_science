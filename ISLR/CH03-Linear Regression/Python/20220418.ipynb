{
 "cells": [
  {
   "cell_type": "code",
   "execution_count": 1,
   "metadata": {},
   "outputs": [],
   "source": [
    "import pandas as pd\n",
    "import numpy as np\n",
    "\n",
    "from matplotlib import pyplot as plt\n",
    "import seaborn as sns\n",
    "\n",
    "from sklearn.datasets import fetch_openml\n",
    "from sklearn.datasets import load_boston\n",
    "from sklearn import linear_model\n",
    "import statsmodels.api as sm\n",
    "import statsmodels.formula.api as smf\n",
    "\n",
    "from sklearn import linear_model\n",
    "from scipy import stats\n",
    "import numpy as np\n",
    "\n",
    "\n",
    "class LinearRegression(linear_model.LinearRegression):\n",
    "    \"\"\"\n",
    "    LinearRegression class after sklearn's, but calculate t-statistics\n",
    "    and p-values for model coefficients (betas).\n",
    "    Additional attributes available after .fit()\n",
    "    are `t` and `p` which are of the shape (y.shape[1], X.shape[1])\n",
    "    which is (n_features, n_coefs)\n",
    "    This class sets the intercept to 0 by default, since usually we include it\n",
    "    in X.\n",
    "    \"\"\"\n",
    "\n",
    "    # def __init__(self, *args, **kwargs):\n",
    "    #     if not \"fit_intercept\" in kwargs:\n",
    "    #         kwargs['fit_intercept'] = False\n",
    "    #     super(LinearRegression, self).__init__(*args, **kwargs)\n",
    "\n",
    "    def __init__(self):\n",
    "        super(LinearRegression, self).__init__(fit_intercept=False)\n",
    "\n",
    "    def fit(self, X, y, n_jobs=1):\n",
    "        self = super(LinearRegression, self).fit(X, y, n_jobs)\n",
    "\n",
    "        sse = np.sum((self.predict(X) - y) ** 2, axis=0) / float(X.shape[0] - X.shape[1])\n",
    "        se = np.array([\n",
    "            np.sqrt(\n",
    "                np.diagonal(\n",
    "                    sse * np.linalg.inv(\n",
    "                        np.dot(X.T, X)\n",
    "                    )\n",
    "                )\n",
    "            )\n",
    "        ])\n",
    "\n",
    "        self.X = X\n",
    "        self.y = y\n",
    "        self.se = se\n",
    "        self.t = self.coef_ / se\n",
    "        self.p = 2 * (1 - stats.t.cdf(np.abs(self.t), y.shape[0] - X.shape[1]))\n",
    "        return self\n",
    "\n",
    "    def summary(self):\n",
    "        columns = ['Estimate', 'Std. Error', 't statistic', 'P value']\n",
    "        index = self.X.columns\n",
    "        data = np.array([\n",
    "            self.coef_,\n",
    "            self.se[0],\n",
    "            self.t[0],\n",
    "            self.p[0]\n",
    "        ]).T\n",
    "        \n",
    "        return pd.DataFrame(data=data, index=index, columns=columns)"
   ]
  },
  {
   "cell_type": "code",
   "execution_count": 2,
   "metadata": {},
   "outputs": [],
   "source": [
    "# load data\n",
    "boston = load_boston()\n",
    "boston_X = boston['data']\n",
    "boston_y = boston['target']\n",
    "\n",
    "# transform into dataframe\n",
    "boston_X_df = pd.DataFrame(data=boston_X, columns=boston.feature_names)\n",
    "\n",
    "# add variable for intercept\n",
    "boston_X_df['intercept'] = 1"
   ]
  },
  {
   "cell_type": "code",
   "execution_count": 3,
   "metadata": {},
   "outputs": [
    {
     "name": "stdout",
     "output_type": "stream",
     "text": [
      "                            OLS Regression Results                            \n",
      "==============================================================================\n",
      "Dep. Variable:                      y   R-squared:                       0.551\n",
      "Model:                            OLS   Adj. R-squared:                  0.549\n",
      "Method:                 Least Squares   F-statistic:                     309.0\n",
      "Date:                Fri, 22 Apr 2022   Prob (F-statistic):           2.98e-88\n",
      "Time:                        13:27:03   Log-Likelihood:                -1637.5\n",
      "No. Observations:                 506   AIC:                             3281.\n",
      "Df Residuals:                     503   BIC:                             3294.\n",
      "Df Model:                           2                                         \n",
      "Covariance Type:            nonrobust                                         \n",
      "==============================================================================\n",
      "                 coef    std err          t      P>|t|      [0.025      0.975]\n",
      "------------------------------------------------------------------------------\n",
      "LSTAT         -1.0321      0.048    -21.416      0.000      -1.127      -0.937\n",
      "AGE            0.0345      0.012      2.826      0.005       0.011       0.059\n",
      "intercept     33.2228      0.731     45.458      0.000      31.787      34.659\n",
      "==============================================================================\n",
      "Omnibus:                      124.288   Durbin-Watson:                   0.945\n",
      "Prob(Omnibus):                  0.000   Jarque-Bera (JB):              244.026\n",
      "Skew:                           1.362   Prob(JB):                     1.02e-53\n",
      "Kurtosis:                       5.038   Cond. No.                         201.\n",
      "==============================================================================\n",
      "\n",
      "Warnings:\n",
      "[1] Standard Errors assume that the covariance matrix of the errors is correctly specified.\n"
     ]
    }
   ],
   "source": [
    "boston_mlr_sm = sm.OLS(boston_y, boston_X_df.loc[:, ['LSTAT', 'AGE', 'intercept']]).fit()\n",
    "\n",
    "print(boston_mlr_sm.summary())"
   ]
  },
  {
   "cell_type": "code",
   "execution_count": 4,
   "metadata": {},
   "outputs": [
    {
     "name": "stdout",
     "output_type": "stream",
     "text": [
      "                            OLS Regression Results                            \n",
      "==============================================================================\n",
      "Dep. Variable:                      y   R-squared:                       0.741\n",
      "Model:                            OLS   Adj. R-squared:                  0.734\n",
      "Method:                 Least Squares   F-statistic:                     108.1\n",
      "Date:                Fri, 22 Apr 2022   Prob (F-statistic):          6.72e-135\n",
      "Time:                        13:27:03   Log-Likelihood:                -1498.8\n",
      "No. Observations:                 506   AIC:                             3026.\n",
      "Df Residuals:                     492   BIC:                             3085.\n",
      "Df Model:                          13                                         \n",
      "Covariance Type:            nonrobust                                         \n",
      "==============================================================================\n",
      "                 coef    std err          t      P>|t|      [0.025      0.975]\n",
      "------------------------------------------------------------------------------\n",
      "CRIM          -0.1080      0.033     -3.287      0.001      -0.173      -0.043\n",
      "ZN             0.0464      0.014      3.382      0.001       0.019       0.073\n",
      "INDUS          0.0206      0.061      0.334      0.738      -0.100       0.141\n",
      "CHAS           2.6867      0.862      3.118      0.002       0.994       4.380\n",
      "NOX          -17.7666      3.820     -4.651      0.000     -25.272     -10.262\n",
      "RM             3.8099      0.418      9.116      0.000       2.989       4.631\n",
      "AGE            0.0007      0.013      0.052      0.958      -0.025       0.027\n",
      "DIS           -1.4756      0.199     -7.398      0.000      -1.867      -1.084\n",
      "RAD            0.3060      0.066      4.613      0.000       0.176       0.436\n",
      "TAX           -0.0123      0.004     -3.280      0.001      -0.020      -0.005\n",
      "PTRATIO       -0.9527      0.131     -7.283      0.000      -1.210      -0.696\n",
      "B              0.0093      0.003      3.467      0.001       0.004       0.015\n",
      "LSTAT         -0.5248      0.051    -10.347      0.000      -0.624      -0.425\n",
      "intercept     36.4595      5.103      7.144      0.000      26.432      46.487\n",
      "==============================================================================\n",
      "Omnibus:                      178.041   Durbin-Watson:                   1.078\n",
      "Prob(Omnibus):                  0.000   Jarque-Bera (JB):              783.126\n",
      "Skew:                           1.521   Prob(JB):                    8.84e-171\n",
      "Kurtosis:                       8.281   Cond. No.                     1.51e+04\n",
      "==============================================================================\n",
      "\n",
      "Warnings:\n",
      "[1] Standard Errors assume that the covariance matrix of the errors is correctly specified.\n",
      "[2] The condition number is large, 1.51e+04. This might indicate that there are\n",
      "strong multicollinearity or other numerical problems.\n"
     ]
    }
   ],
   "source": [
    "boston_mlr_all_sm = sm.OLS(boston_y, boston_X_df).fit()\n",
    "\n",
    "print(boston_mlr_all_sm.summary())"
   ]
  },
  {
   "cell_type": "code",
   "execution_count": 5,
   "metadata": {},
   "outputs": [
    {
     "name": "stdout",
     "output_type": "stream",
     "text": [
      "4.750128002982112\n"
     ]
    }
   ],
   "source": [
    "n = len(boston_X_df)\n",
    "p = len(boston_X_df.columns)\n",
    "RSS = (boston_mlr_all_sm.resid**2).sum()\n",
    "RSE = np.sqrt(RSS / (n - p - 1))\n",
    "print(RSE)"
   ]
  },
  {
   "cell_type": "code",
   "execution_count": 6,
   "metadata": {},
   "outputs": [
    {
     "data": {
      "text/plain": [
       "CRIM           1.792192\n",
       "ZN             2.298758\n",
       "INDUS          3.991596\n",
       "CHAS           1.073995\n",
       "NOX            4.393720\n",
       "RM             1.933744\n",
       "AGE            3.100826\n",
       "DIS            3.955945\n",
       "RAD            7.484496\n",
       "TAX            9.008554\n",
       "PTRATIO        1.799084\n",
       "B              1.348521\n",
       "LSTAT          2.941491\n",
       "intercept    585.265238\n",
       "dtype: float64"
      ]
     },
     "execution_count": 6,
     "metadata": {},
     "output_type": "execute_result"
    }
   ],
   "source": [
    "from statsmodels.stats.outliers_influence import variance_inflation_factor\n",
    "pd.Series([\n",
    "    variance_inflation_factor(boston_X_df.values, i)\n",
    "    for i in range(boston_X_df.shape[1])\n",
    "], index=boston_X_df.columns)"
   ]
  },
  {
   "cell_type": "code",
   "execution_count": 7,
   "metadata": {},
   "outputs": [
    {
     "name": "stdout",
     "output_type": "stream",
     "text": [
      "4.679191295697281\n"
     ]
    }
   ],
   "source": [
    "from statsmodels.tools.eval_measures import rmse\n",
    "RMSE = rmse(boston_y, boston_mlr_all_sm.fittedvalues)\n",
    "print(RMSE)"
   ]
  },
  {
   "cell_type": "code",
   "execution_count": 8,
   "metadata": {},
   "outputs": [
    {
     "name": "stdout",
     "output_type": "stream",
     "text": [
      "4.679191295697285\n"
     ]
    }
   ],
   "source": [
    "RMSE2 = np.sqrt(((boston_y - boston_mlr_all_sm.fittedvalues)**2).mean())\n",
    "print(RMSE2)"
   ]
  },
  {
   "cell_type": "code",
   "execution_count": 9,
   "metadata": {},
   "outputs": [
    {
     "name": "stdout",
     "output_type": "stream",
     "text": [
      "                            OLS Regression Results                            \n",
      "==============================================================================\n",
      "Dep. Variable:                  PRICE   R-squared:                       0.741\n",
      "Model:                            OLS   Adj. R-squared:                  0.734\n",
      "Method:                 Least Squares   F-statistic:                     117.3\n",
      "Date:                Fri, 22 Apr 2022   Prob (F-statistic):          6.08e-136\n",
      "Time:                        13:27:03   Log-Likelihood:                -1498.8\n",
      "No. Observations:                 506   AIC:                             3024.\n",
      "Df Residuals:                     493   BIC:                             3079.\n",
      "Df Model:                          12                                         \n",
      "Covariance Type:            nonrobust                                         \n",
      "==============================================================================\n",
      "                 coef    std err          t      P>|t|      [0.025      0.975]\n",
      "------------------------------------------------------------------------------\n",
      "Intercept     18.2185      2.540      7.172      0.000      13.228      23.209\n",
      "CRIM          -0.1080      0.033     -3.290      0.001      -0.173      -0.043\n",
      "ZN             0.0463      0.014      3.404      0.001       0.020       0.073\n",
      "INDUS          0.0206      0.061      0.335      0.738      -0.100       0.141\n",
      "CHAS           2.6890      0.860      3.128      0.002       1.000       4.378\n",
      "NOX          -17.7135      3.679     -4.814      0.000     -24.943     -10.484\n",
      "RM             3.8144      0.408      9.338      0.000       3.012       4.617\n",
      "DIS           -1.4786      0.191     -7.757      0.000      -1.853      -1.104\n",
      "RAD            0.3058      0.066      4.627      0.000       0.176       0.436\n",
      "TAX           -0.0123      0.004     -3.283      0.001      -0.020      -0.005\n",
      "PTRATIO       -0.9522      0.130     -7.308      0.000      -1.208      -0.696\n",
      "B              0.0093      0.003      3.481      0.001       0.004       0.015\n",
      "LSTAT         -0.5239      0.048    -10.999      0.000      -0.617      -0.430\n",
      "intercept     18.2185      2.540      7.172      0.000      13.228      23.209\n",
      "==============================================================================\n",
      "Omnibus:                      178.343   Durbin-Watson:                   1.078\n",
      "Prob(Omnibus):                  0.000   Jarque-Bera (JB):              786.386\n",
      "Skew:                           1.523   Prob(JB):                    1.73e-171\n",
      "Kurtosis:                       8.294   Cond. No.                     1.15e+18\n",
      "==============================================================================\n",
      "\n",
      "Warnings:\n",
      "[1] Standard Errors assume that the covariance matrix of the errors is correctly specified.\n",
      "[2] The smallest eigenvalue is 1.17e-28. This might indicate that there are\n",
      "strong multicollinearity problems or that the design matrix is singular.\n"
     ]
    }
   ],
   "source": [
    "# Add the target variable \"PRICE\" to the features data frame\n",
    "boston_data = boston_X_df.copy()\n",
    "boston_data['PRICE'] = boston_y\n",
    "\n",
    "all_columns = ' + '.join(boston_X_df.columns)\n",
    "\n",
    "# Fit the OLS model using R-style notation\n",
    "boston_mlr = smf.ols(formula='PRICE ~ {} -AGE'.format(all_columns), data=boston_data).fit()\n",
    "print(boston_mlr.summary())"
   ]
  },
  {
   "cell_type": "code",
   "execution_count": 10,
   "metadata": {},
   "outputs": [
    {
     "name": "stdout",
     "output_type": "stream",
     "text": [
      "                            OLS Regression Results                            \n",
      "==============================================================================\n",
      "Dep. Variable:                  PRICE   R-squared:                       0.556\n",
      "Model:                            OLS   Adj. R-squared:                  0.553\n",
      "Method:                 Least Squares   F-statistic:                     209.3\n",
      "Date:                Fri, 22 Apr 2022   Prob (F-statistic):           4.86e-88\n",
      "Time:                        13:27:03   Log-Likelihood:                -1635.0\n",
      "No. Observations:                 506   AIC:                             3278.\n",
      "Df Residuals:                     502   BIC:                             3295.\n",
      "Df Model:                           3                                         \n",
      "Covariance Type:            nonrobust                                         \n",
      "==============================================================================\n",
      "                 coef    std err          t      P>|t|      [0.025      0.975]\n",
      "------------------------------------------------------------------------------\n",
      "Intercept     36.0885      1.470     24.553      0.000      33.201      38.976\n",
      "LSTAT         -1.3921      0.167     -8.313      0.000      -1.721      -1.063\n",
      "AGE           -0.0007      0.020     -0.036      0.971      -0.040       0.038\n",
      "LSTAT:AGE      0.0042      0.002      2.244      0.025       0.001       0.008\n",
      "==============================================================================\n",
      "Omnibus:                      135.601   Durbin-Watson:                   0.965\n",
      "Prob(Omnibus):                  0.000   Jarque-Bera (JB):              296.955\n",
      "Skew:                           1.417   Prob(JB):                     3.29e-65\n",
      "Kurtosis:                       5.461   Cond. No.                     6.88e+03\n",
      "==============================================================================\n",
      "\n",
      "Warnings:\n",
      "[1] Standard Errors assume that the covariance matrix of the errors is correctly specified.\n",
      "[2] The condition number is large, 6.88e+03. This might indicate that there are\n",
      "strong multicollinearity or other numerical problems.\n"
     ]
    }
   ],
   "source": [
    "boston_mlr_interact = smf.ols(formula='PRICE ~ LSTAT * AGE'.format(all_columns), data=boston_data).fit()\n",
    "print(boston_mlr_interact.summary())"
   ]
  },
  {
   "cell_type": "code",
   "execution_count": 11,
   "metadata": {},
   "outputs": [
    {
     "name": "stdout",
     "output_type": "stream",
     "text": [
      "                            OLS Regression Results                            \n",
      "==============================================================================\n",
      "Dep. Variable:                  PRICE   R-squared:                       0.155\n",
      "Model:                            OLS   Adj. R-squared:                  0.151\n",
      "Method:                 Least Squares   F-statistic:                     46.08\n",
      "Date:                Fri, 22 Apr 2022   Prob (F-statistic):           4.22e-19\n",
      "Time:                        13:27:03   Log-Likelihood:                -1797.7\n",
      "No. Observations:                 506   AIC:                             3601.\n",
      "Df Residuals:                     503   BIC:                             3614.\n",
      "Df Model:                           2                                         \n",
      "Covariance Type:            nonrobust                                         \n",
      "===============================================================================\n",
      "                  coef    std err          t      P>|t|      [0.025      0.975]\n",
      "-------------------------------------------------------------------------------\n",
      "Intercept      26.5674      1.885     14.097      0.000      22.865      30.270\n",
      "square(AGE)    -0.0016      0.001     -2.754      0.006      -0.003      -0.000\n",
      "AGE             0.0692      0.071      0.973      0.331      -0.071       0.209\n",
      "==============================================================================\n",
      "Omnibus:                      179.752   Durbin-Watson:                   0.628\n",
      "Prob(Omnibus):                  0.000   Jarque-Bera (JB):              518.132\n",
      "Skew:                           1.737   Prob(JB):                    3.08e-113\n",
      "Kurtosis:                       6.537   Cond. No.                     3.25e+04\n",
      "==============================================================================\n",
      "\n",
      "Warnings:\n",
      "[1] Standard Errors assume that the covariance matrix of the errors is correctly specified.\n",
      "[2] The condition number is large, 3.25e+04. This might indicate that there are\n",
      "strong multicollinearity or other numerical problems.\n"
     ]
    }
   ],
   "source": [
    "def square(x):\n",
    "    return x**2\n",
    "\n",
    "boston_mlr_nonlinear = smf.ols(formula='PRICE ~ square(AGE) + AGE', data=boston_data).fit()\n",
    "print(boston_mlr_nonlinear.summary())"
   ]
  },
  {
   "cell_type": "code",
   "execution_count": 12,
   "metadata": {},
   "outputs": [
    {
     "name": "stdout",
     "output_type": "stream",
     "text": [
      "                            OLS Regression Results                            \n",
      "==============================================================================\n",
      "Dep. Variable:                  PRICE   R-squared:                       0.668\n",
      "Model:                            OLS   Adj. R-squared:                  0.667\n",
      "Method:                 Least Squares   F-statistic:                     506.4\n",
      "Date:                Fri, 22 Apr 2022   Prob (F-statistic):          3.30e-121\n",
      "Time:                        13:27:03   Log-Likelihood:                -1561.2\n",
      "No. Observations:                 506   AIC:                             3128.\n",
      "Df Residuals:                     503   BIC:                             3141.\n",
      "Df Model:                           2                                         \n",
      "Covariance Type:            nonrobust                                         \n",
      "==================================================================================\n",
      "                     coef    std err          t      P>|t|      [0.025      0.975]\n",
      "----------------------------------------------------------------------------------\n",
      "Intercept         68.6836      2.535     27.089      0.000      63.702      73.665\n",
      "np.sqrt(LSTAT)   -20.1734      1.471    -13.709      0.000     -23.064     -17.282\n",
      "LSTAT              1.8016      0.203      8.856      0.000       1.402       2.201\n",
      "==============================================================================\n",
      "Omnibus:                      116.598   Durbin-Watson:                   0.925\n",
      "Prob(Omnibus):                  0.000   Jarque-Bera (JB):              304.768\n",
      "Skew:                           1.136   Prob(JB):                     6.61e-67\n",
      "Kurtosis:                       6.048   Cond. No.                         186.\n",
      "==============================================================================\n",
      "\n",
      "Warnings:\n",
      "[1] Standard Errors assume that the covariance matrix of the errors is correctly specified.\n"
     ]
    }
   ],
   "source": [
    "boston_mlr_nonlinear2 = smf.ols(formula='PRICE ~ np.sqrt(LSTAT) + LSTAT', data=boston_data).fit()\n",
    "print(boston_mlr_nonlinear2.summary())"
   ]
  },
  {
   "cell_type": "code",
   "execution_count": 13,
   "metadata": {},
   "outputs": [
    {
     "name": "stdout",
     "output_type": "stream",
     "text": [
      "   df_resid           ssr  df_diff     ss_diff           F        Pr(>F)\n",
      "0     504.0  19472.381418      0.0         NaN         NaN           NaN\n",
      "1     503.0  15347.243158      1.0  4125.13826  135.199822  7.630116e-28\n"
     ]
    },
    {
     "name": "stderr",
     "output_type": "stream",
     "text": [
      "C:\\Users\\Ariel\\anaconda3\\lib\\site-packages\\scipy\\stats\\_distn_infrastructure.py:903: RuntimeWarning: invalid value encountered in greater\n",
      "  return (a < x) & (x < b)\n",
      "C:\\Users\\Ariel\\anaconda3\\lib\\site-packages\\scipy\\stats\\_distn_infrastructure.py:903: RuntimeWarning: invalid value encountered in less\n",
      "  return (a < x) & (x < b)\n",
      "C:\\Users\\Ariel\\anaconda3\\lib\\site-packages\\scipy\\stats\\_distn_infrastructure.py:1912: RuntimeWarning: invalid value encountered in less_equal\n",
      "  cond2 = cond0 & (x <= _a)\n"
     ]
    }
   ],
   "source": [
    "from statsmodels.stats.anova import anova_lm\n",
    "m01 = smf.ols(formula='PRICE ~ LSTAT', data=boston_data).fit()\n",
    "m02 = smf.ols(formula='PRICE ~ square(LSTAT) + LSTAT', data=boston_data).fit()\n",
    "anova_results = anova_lm(m01, m02)\n",
    "print(anova_results)"
   ]
  },
  {
   "cell_type": "code",
   "execution_count": 14,
   "metadata": {},
   "outputs": [
    {
     "data": {
      "text/plain": [
       "Text(0, 0.5, 'PRICE')"
      ]
     },
     "execution_count": 14,
     "metadata": {},
     "output_type": "execute_result"
    },
    {
     "data": {
      "image/png": "[encoded data removed]",
      "text/plain": [
       "<Figure size 864x576 with 1 Axes>"
      ]
     },
     "metadata": {
      "needs_background": "light"
     },
     "output_type": "display_data"
    }
   ],
   "source": [
    "fig = plt.figure(figsize=(12, 8))\n",
    "sns.scatterplot(\n",
    "    x=boston_data.LSTAT**2,\n",
    "    y=boston_data.PRICE\n",
    ")\n",
    "\n",
    "sns.lineplot(\n",
    "    x=boston_data.LSTAT**2,\n",
    "    y=m02.fittedvalues,\n",
    "    color='r',\n",
    "    linestyle='--'\n",
    ")\n",
    "\n",
    "# plt.plot(boston_data.LSTAT**2, m02.fittedvalues, color='r', linestyle='--')\n",
    "plt.title('Predicting Variable (LSTAT**2) vs. Target Variable (PRICE)')\n",
    "plt.xlabel('LSTAT')\n",
    "plt.ylabel('PRICE')"
   ]
  },
  {
   "cell_type": "code",
   "execution_count": 15,
   "metadata": {},
   "outputs": [
    {
     "data": {
      "text/plain": [
       "Text(0, 0.5, 'Residuals')"
      ]
     },
     "execution_count": 15,
     "metadata": {},
     "output_type": "execute_result"
    },
    {
     "data": {
      "image/png": "[encoded data removed]",
      "text/plain": [
       "<Figure size 864x576 with 1 Axes>"
      ]
     },
     "metadata": {
      "needs_background": "light"
     },
     "output_type": "display_data"
    }
   ],
   "source": [
    "fig = plt.figure(figsize=(12, 8))\n",
    "sns.scatterplot(\n",
    "    x=m02.fittedvalues,\n",
    "    y=(boston_y - m02.fittedvalues)\n",
    ")\n",
    "plt.axhline(y=0, color='r', linestyle='--')\n",
    "plt.title('Residual vs. Fitted')\n",
    "plt.xlabel('Fitted Values')\n",
    "plt.ylabel('Residuals')"
   ]
  },
  {
   "cell_type": "code",
   "execution_count": 16,
   "metadata": {},
   "outputs": [
    {
     "name": "stdout",
     "output_type": "stream",
     "text": [
      "                            OLS Regression Results                            \n",
      "==============================================================================\n",
      "Dep. Variable:                  PRICE   R-squared:                       0.547\n",
      "Model:                            OLS   Adj. R-squared:                  0.542\n",
      "Method:                 Least Squares   F-statistic:                     120.6\n",
      "Date:                Fri, 22 Apr 2022   Prob (F-statistic):           1.54e-83\n",
      "Time:                        13:27:05   Log-Likelihood:                -1640.1\n",
      "No. Observations:                 506   AIC:                             3292.\n",
      "Df Residuals:                     500   BIC:                             3318.\n",
      "Df Model:                           5                                         \n",
      "Covariance Type:            nonrobust                                         \n",
      "==============================================================================\n",
      "                 coef    std err          t      P>|t|      [0.025      0.975]\n",
      "------------------------------------------------------------------------------\n",
      "Intercept     34.4292      0.573     60.113      0.000      33.304      35.554\n",
      "LSTAT         -0.9464      0.039    -24.245      0.000      -1.023      -0.870\n",
      "LSTAT_2       6.5e-08   2.47e-07      0.264      0.792   -4.19e-07    5.49e-07\n",
      "LSTAT_3     -5.51e-07   2.23e-06     -0.247      0.805   -4.93e-06    3.83e-06\n",
      "LSTAT_4     6.805e-08    4.2e-08      1.620      0.106   -1.45e-08    1.51e-07\n",
      "LSTAT_5    -1.241e-08   1.06e-07     -0.117      0.907   -2.21e-07    1.97e-07\n",
      "==============================================================================\n",
      "Omnibus:                      134.369   Durbin-Watson:                   0.902\n",
      "Prob(Omnibus):                  0.000   Jarque-Bera (JB):              281.004\n",
      "Skew:                           1.434   Prob(JB):                     9.57e-62\n",
      "Kurtosis:                       5.260   Cond. No.                     1.40e+07\n",
      "==============================================================================\n",
      "\n",
      "Warnings:\n",
      "[1] Standard Errors assume that the covariance matrix of the errors is correctly specified.\n",
      "[2] The condition number is large, 1.4e+07. This might indicate that there are\n",
      "strong multicollinearity or other numerical problems.\n"
     ]
    }
   ],
   "source": [
    "from sklearn.preprocessing import PolynomialFeatures\n",
    "polynomial_features = PolynomialFeatures(degree=5)\n",
    "LSTAT_poly = polynomial_features.fit_transform(boston_data.LSTAT.values.reshape(-1, 1))\n",
    "LSTAT_poly_np = np.array(LSTAT_poly).reshape(6, -1)\n",
    "\n",
    "for i in range(2, 6):\n",
    "\tboston_data['LSTAT_{}'.format(i)] = LSTAT_poly_np[i]\n",
    "\n",
    "m03_poly = smf.ols(formula='PRICE ~ LSTAT + LSTAT_2 + LSTAT_3 + LSTAT_4 + LSTAT_5', data=boston_data).fit()\n",
    "print(m03_poly.summary())"
   ]
  },
  {
   "cell_type": "code",
   "execution_count": 17,
   "metadata": {},
   "outputs": [],
   "source": [
    "df_carseats = pd.read_csv('https://raw.githubusercontent.com/JWarmenhoven/ISLR-python/master/Notebooks/Data/Carseats.csv')\n",
    "df_carseats.drop('Unnamed: 0', axis=1, inplace=True)"
   ]
  },
  {
   "cell_type": "code",
   "execution_count": 18,
   "metadata": {},
   "outputs": [
    {
     "data": {
      "text/html": [
       "<div>\n",
       "<style scoped>\n",
       "    .dataframe tbody tr th:only-of-type {\n",
       "        vertical-align: middle;\n",
       "    }\n",
       "\n",
       "    .dataframe tbody tr th {\n",
       "        vertical-align: top;\n",
       "    }\n",
       "\n",
       "    .dataframe thead th {\n",
       "        text-align: right;\n",
       "    }\n",
       "</style>\n",
       "<table border=\"1\" class=\"dataframe\">\n",
       "  <thead>\n",
       "    <tr style=\"text-align: right;\">\n",
       "      <th></th>\n",
       "      <th>Sales</th>\n",
       "      <th>CompPrice</th>\n",
       "      <th>Income</th>\n",
       "      <th>Advertising</th>\n",
       "      <th>Population</th>\n",
       "      <th>Price</th>\n",
       "      <th>ShelveLoc</th>\n",
       "      <th>Age</th>\n",
       "      <th>Education</th>\n",
       "      <th>Urban</th>\n",
       "      <th>US</th>\n",
       "    </tr>\n",
       "  </thead>\n",
       "  <tbody>\n",
       "    <tr>\n",
       "      <th>0</th>\n",
       "      <td>9.50</td>\n",
       "      <td>138</td>\n",
       "      <td>73</td>\n",
       "      <td>11</td>\n",
       "      <td>276</td>\n",
       "      <td>120</td>\n",
       "      <td>Bad</td>\n",
       "      <td>42</td>\n",
       "      <td>17</td>\n",
       "      <td>Yes</td>\n",
       "      <td>Yes</td>\n",
       "    </tr>\n",
       "    <tr>\n",
       "      <th>1</th>\n",
       "      <td>11.22</td>\n",
       "      <td>111</td>\n",
       "      <td>48</td>\n",
       "      <td>16</td>\n",
       "      <td>260</td>\n",
       "      <td>83</td>\n",
       "      <td>Good</td>\n",
       "      <td>65</td>\n",
       "      <td>10</td>\n",
       "      <td>Yes</td>\n",
       "      <td>Yes</td>\n",
       "    </tr>\n",
       "    <tr>\n",
       "      <th>2</th>\n",
       "      <td>10.06</td>\n",
       "      <td>113</td>\n",
       "      <td>35</td>\n",
       "      <td>10</td>\n",
       "      <td>269</td>\n",
       "      <td>80</td>\n",
       "      <td>Medium</td>\n",
       "      <td>59</td>\n",
       "      <td>12</td>\n",
       "      <td>Yes</td>\n",
       "      <td>Yes</td>\n",
       "    </tr>\n",
       "    <tr>\n",
       "      <th>3</th>\n",
       "      <td>7.40</td>\n",
       "      <td>117</td>\n",
       "      <td>100</td>\n",
       "      <td>4</td>\n",
       "      <td>466</td>\n",
       "      <td>97</td>\n",
       "      <td>Medium</td>\n",
       "      <td>55</td>\n",
       "      <td>14</td>\n",
       "      <td>Yes</td>\n",
       "      <td>Yes</td>\n",
       "    </tr>\n",
       "    <tr>\n",
       "      <th>4</th>\n",
       "      <td>4.15</td>\n",
       "      <td>141</td>\n",
       "      <td>64</td>\n",
       "      <td>3</td>\n",
       "      <td>340</td>\n",
       "      <td>128</td>\n",
       "      <td>Bad</td>\n",
       "      <td>38</td>\n",
       "      <td>13</td>\n",
       "      <td>Yes</td>\n",
       "      <td>No</td>\n",
       "    </tr>\n",
       "  </tbody>\n",
       "</table>\n",
       "</div>"
      ],
      "text/plain": [
       "   Sales  CompPrice  Income  Advertising  Population  Price ShelveLoc  Age  \\\n",
       "0   9.50        138      73           11         276    120       Bad   42   \n",
       "1  11.22        111      48           16         260     83      Good   65   \n",
       "2  10.06        113      35           10         269     80    Medium   59   \n",
       "3   7.40        117     100            4         466     97    Medium   55   \n",
       "4   4.15        141      64            3         340    128       Bad   38   \n",
       "\n",
       "   Education Urban   US  \n",
       "0         17   Yes  Yes  \n",
       "1         10   Yes  Yes  \n",
       "2         12   Yes  Yes  \n",
       "3         14   Yes  Yes  \n",
       "4         13   Yes   No  "
      ]
     },
     "execution_count": 18,
     "metadata": {},
     "output_type": "execute_result"
    }
   ],
   "source": [
    "df_carseats.head()"
   ]
  },
  {
   "cell_type": "code",
   "execution_count": 19,
   "metadata": {},
   "outputs": [],
   "source": [
    "carseats_cols = ' + '.join(df_carseats.columns[1:])"
   ]
  },
  {
   "cell_type": "code",
   "execution_count": 20,
   "metadata": {},
   "outputs": [
    {
     "name": "stdout",
     "output_type": "stream",
     "text": [
      "                            OLS Regression Results                            \n",
      "==============================================================================\n",
      "Dep. Variable:                  Sales   R-squared:                       0.876\n",
      "Model:                            OLS   Adj. R-squared:                  0.872\n",
      "Method:                 Least Squares   F-statistic:                     210.0\n",
      "Date:                Fri, 22 Apr 2022   Prob (F-statistic):          6.14e-166\n",
      "Time:                        13:27:05   Log-Likelihood:                -564.67\n",
      "No. Observations:                 400   AIC:                             1157.\n",
      "Df Residuals:                     386   BIC:                             1213.\n",
      "Df Model:                          13                                         \n",
      "Covariance Type:            nonrobust                                         \n",
      "=======================================================================================\n",
      "                          coef    std err          t      P>|t|      [0.025      0.975]\n",
      "---------------------------------------------------------------------------------------\n",
      "Intercept               6.5756      1.009      6.519      0.000       4.592       8.559\n",
      "ShelveLoc[T.Good]       4.8487      0.153     31.724      0.000       4.548       5.149\n",
      "ShelveLoc[T.Medium]     1.9533      0.126     15.531      0.000       1.706       2.201\n",
      "Urban[T.Yes]            0.1402      0.112      1.247      0.213      -0.081       0.361\n",
      "US[T.Yes]              -0.1576      0.149     -1.058      0.291      -0.450       0.135\n",
      "CompPrice               0.0929      0.004     22.567      0.000       0.085       0.101\n",
      "Income                  0.0109      0.003      4.183      0.000       0.006       0.016\n",
      "Advertising             0.0702      0.023      3.107      0.002       0.026       0.115\n",
      "Population              0.0002      0.000      0.433      0.665      -0.001       0.001\n",
      "Price                  -0.1008      0.007    -13.549      0.000      -0.115      -0.086\n",
      "Age                    -0.0579      0.016     -3.633      0.000      -0.089      -0.027\n",
      "Education              -0.0209      0.020     -1.063      0.288      -0.059       0.018\n",
      "Income:Advertising      0.0008      0.000      2.698      0.007       0.000       0.001\n",
      "Price:Age               0.0001      0.000      0.801      0.424      -0.000       0.000\n",
      "==============================================================================\n",
      "Omnibus:                        1.281   Durbin-Watson:                   2.047\n",
      "Prob(Omnibus):                  0.527   Jarque-Bera (JB):                1.147\n",
      "Skew:                           0.129   Prob(JB):                        0.564\n",
      "Kurtosis:                       3.050   Cond. No.                     1.31e+05\n",
      "==============================================================================\n",
      "\n",
      "Warnings:\n",
      "[1] Standard Errors assume that the covariance matrix of the errors is correctly specified.\n",
      "[2] The condition number is large, 1.31e+05. This might indicate that there are\n",
      "strong multicollinearity or other numerical problems.\n"
     ]
    }
   ],
   "source": [
    "carseats_sm = smf.ols(formula='Sales ~ {} + Income:Advertising + Price:Age'.format(carseats_cols), data=df_carseats).fit()\n",
    "print(carseats_sm.summary())"
   ]
  },
  {
   "cell_type": "code",
   "execution_count": null,
   "metadata": {},
   "outputs": [],
   "source": []
  }
 ],
 "metadata": {
  "interpreter": {
   "hash": "7bbc53da2d95dc41dd8ecbae1ddafb826ff85dd4e742267596895523cce3e7e5"
  },
  "kernelspec": {
   "display_name": "Python 3.7.6 ('base')",
   "language": "python",
   "name": "python3"
  },
  "language_info": {
   "codemirror_mode": {
    "name": "ipython",
    "version": 3
   },
   "file_extension": ".py",
   "mimetype": "text/x-python",
   "name": "python",
   "nbconvert_exporter": "python",
   "pygments_lexer": "ipython3",
   "version": "3.7.6"
  },
  "orig_nbformat": 4
 },
 "nbformat": 4,
 "nbformat_minor": 2
}
