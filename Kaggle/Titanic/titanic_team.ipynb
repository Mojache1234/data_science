{
 "cells": [
  {
   "cell_type": "code",
   "execution_count": 273,
   "metadata": {},
   "outputs": [],
   "source": [
    "import numpy as np\r\n",
    "import pandas as pd\r\n",
    "import matplotlib.pyplot as plt\r\n",
    "import seaborn as sns"
   ]
  },
  {
   "cell_type": "code",
   "execution_count": 274,
   "metadata": {},
   "outputs": [],
   "source": [
    "test_data = pd.read_csv('data/test.csv')\r\n",
    "train_data = pd.read_csv('data/train.csv')"
   ]
  },
  {
   "cell_type": "markdown",
   "metadata": {},
   "source": [
    "## Train/Test Split"
   ]
  },
  {
   "cell_type": "code",
   "execution_count": 298,
   "metadata": {},
   "outputs": [],
   "source": [
    "name_prefixes = ['Mr.', 'Miss.', 'Mrs.']\r\n",
    "train_data['Name_prefix'] = train_data.Name.apply(lambda x: re.findall(r'\\w{2,}\\.', x)[0])\r\n",
    "train_data.loc[~train_data.Name_prefix.isin(name_prefixes), 'Name_prefix'] = 'Rare'\r\n",
    "\r\n",
    "from sklearn.model_selection import train_test_split\r\n",
    "train, test = train_test_split(train_data, test_size=0.25, random_state=0)"
   ]
  },
  {
   "cell_type": "markdown",
   "metadata": {},
   "source": [
    "## Data Analysis"
   ]
  },
  {
   "cell_type": "code",
   "execution_count": 276,
   "metadata": {},
   "outputs": [],
   "source": [
    "sns.heatmap(train.isna())"
   ]
  },
  {
   "cell_type": "code",
   "execution_count": 277,
   "metadata": {},
   "outputs": [],
   "source": [
    "train.SibSp.value_counts()"
   ]
  },
  {
   "cell_type": "markdown",
   "metadata": {},
   "source": [
    "## Interesting Themes\r\n",
    "\r\n",
    "- Wealthy survive?\r\n",
    "- Age vs. ticket price?\r\n",
    "- Young and wealthy variable?\r\n",
    "- Total spent?"
   ]
  },
  {
   "cell_type": "code",
   "execution_count": 278,
   "metadata": {},
   "outputs": [],
   "source": [
    "sns.heatmap(train.loc[:, num_cols + ['Survived']].corr(), annot=True)"
   ]
  },
  {
   "cell_type": "code",
   "execution_count": 279,
   "metadata": {},
   "outputs": [],
   "source": [
    "train.groupby('Pclass').Fare.agg(['count', 'mean'])"
   ]
  },
  {
   "cell_type": "code",
   "execution_count": 280,
   "metadata": {},
   "outputs": [],
   "source": [
    "sns.scatterplot(\r\n",
    "    x=train.Age,\r\n",
    "    y=train.Fare\r\n",
    ")"
   ]
  },
  {
   "cell_type": "markdown",
   "metadata": {},
   "source": [
    "## Notes for Feature Engineering\r\n",
    "\r\n",
    "- Pclass vs. Fare are somewhat correlated, do we exclude one or the other?\r\n",
    "- Parch vs. SibSp are somewhat correlated, do we exclude one or the other?\r\n",
    "- Age has a lot of null values. How to impute?\r\n",
    "- Cabin info is also missing. What does null mean in this scenario?\r\n",
    "    - Reduce cabin by first letter\r\n",
    "- Extract prefix from name\r\n",
    "- Normalize Age + Fare"
   ]
  },
  {
   "cell_type": "code",
   "execution_count": 281,
   "metadata": {},
   "outputs": [],
   "source": [
    "# Reduce cabin to first letter\r\n",
    "train['Cabin_letter'] = train.Cabin.fillna('_').str[0]"
   ]
  },
  {
   "cell_type": "code",
   "execution_count": 282,
   "metadata": {},
   "outputs": [],
   "source": [
    "# Get all name prefixes\r\n",
    "train['Name_prefix'] = train.Name.apply(lambda x: re.findall(r'\\w{2,}\\.', x)[0])"
   ]
  },
  {
   "cell_type": "markdown",
   "metadata": {},
   "source": [
    "## Feature Engineering Function"
   ]
  },
  {
   "cell_type": "code",
   "execution_count": 300,
   "metadata": {},
   "outputs": [],
   "source": [
    "def feature_engineer(data):\r\n",
    "    cat_cols = ['Pclass', 'Sex', 'Cabin_letter', 'Embarked', 'Name_prefix']\r\n",
    "    num_cols = ['Age', 'Fare', 'SibSp', 'Parch']\r\n",
    "\r\n",
    "    data_copy = data.copy()\r\n",
    "\r\n",
    "    # Drop Misc column\r\n",
    "    data_copy.drop('Ticket', axis=1, inplace=True)\r\n",
    "    data_copy.drop('PassengerId', axis=1, inplace=True)\r\n",
    "    data_copy.drop('Name', axis=1, inplace=True)\r\n",
    "\r\n",
    "    # Cabin2Cabin_letter\r\n",
    "    data_copy['Cabin_letter'] = data_copy.Cabin.fillna('_').str[0]\r\n",
    "    data_copy.drop('Cabin', axis=1, inplace=True)\r\n",
    "\r\n",
    "    # Embarked missing values\r\n",
    "    modeEmbarked = data_copy['Embarked'].mode()\r\n",
    "    data_copy.Embarked.fillna(modeEmbarked, inplace=True)\r\n",
    "\r\n",
    "    # Age\r\n",
    "    medianAge = data_copy['Age'].median()\r\n",
    "    data_copy.Age.fillna(medianAge, inplace=True)\r\n",
    "\r\n",
    "    # One-Hot Encoding\r\n",
    "    for col in cat_cols:\r\n",
    "        data_copy = data_copy.join(pd.get_dummies(data_copy[col], prefix=col, drop_first=True))\r\n",
    "        data_copy.drop(col, axis=1, inplace=True)\r\n",
    "    \r\n",
    "    return data_copy.drop('Survived', axis=1), data_copy['Survived']"
   ]
  },
  {
   "cell_type": "code",
   "execution_count": 305,
   "metadata": {},
   "outputs": [],
   "source": [
    "X_train, y_train = feature_engineer(train)\r\n",
    "X_test, y_test = feature_engineer(test)\r\n",
    "\r\n",
    "# Hack-y fix\r\n",
    "X_test['Cabin_letter_T'] = 0"
   ]
  },
  {
   "cell_type": "markdown",
   "metadata": {},
   "source": [
    "## Model Building"
   ]
  },
  {
   "cell_type": "code",
   "execution_count": 285,
   "metadata": {},
   "outputs": [],
   "source": [
    "from sklearn.linear_model import LogisticRegression\r\n",
    "from sklearn.model_selection import cross_val_score"
   ]
  },
  {
   "cell_type": "code",
   "execution_count": 306,
   "metadata": {},
   "outputs": [],
   "source": [
    "lr = LogisticRegression(max_iter = 2000)\r\n",
    "\r\n",
    "lr.fit(X_train, y_train)\r\n",
    "y_pred = lr.predict(X_test)\r\n"
   ]
  },
  {
   "cell_type": "code",
   "execution_count": 307,
   "metadata": {},
   "outputs": [],
   "source": [
    "(y_test == y_pred).mean()"
   ]
  },
  {
   "cell_type": "code",
   "execution_count": 309,
   "metadata": {},
   "outputs": [],
   "source": [
    "lr = LogisticRegression(max_iter = 2000)\r\n",
    "\r\n",
    "drop_cols = X_train.columns[X_train.columns.str.contains('Cabin_')]\r\n",
    "lr.fit(X_train.drop(drop_cols, axis=1), y_train)\r\n",
    "y_pred = lr.predict(X_test.drop(drop_cols, axis=1))"
   ]
  },
  {
   "cell_type": "code",
   "execution_count": 310,
   "metadata": {},
   "outputs": [],
   "source": [
    "(y_test == y_pred).mean()"
   ]
  },
  {
   "cell_type": "code",
   "execution_count": 336,
   "metadata": {},
   "outputs": [],
   "source": [
    "lr = LogisticRegression(max_iter = 1000)\r\n",
    "\r\n",
    "lr.fit(X_train[['Fare', 'Sex_male', 'Age', 'Pclass_2', 'Pclass_3', 'SibSp', 'Parch']], y_train)\r\n",
    "y_pred = lr.predict(X_test[['Fare', 'Sex_male', 'Age', 'Pclass_2', 'Pclass_3', 'SibSp', 'Parch']])\r\n",
    "\r\n",
    "(y_test == y_pred).mean()"
   ]
  },
  {
   "cell_type": "code",
   "execution_count": 337,
   "metadata": {},
   "outputs": [],
   "source": [
    "lr = LogisticRegression(max_iter = 1000)\r\n",
    "\r\n",
    "lr.fit(X_train[['Sex_male']], y_train)\r\n",
    "y_pred = lr.predict(X_test[['Sex_male']])"
   ]
  }
 ],
 "metadata": {
  "kernelspec": {
   "display_name": "Python 3",
   "name": "python3"
  },
  "language_info": {
   "codemirror_mode": {
    "name": "ipython",
    "version": 3
   },
   "file_extension": ".py",
   "mimetype": "text/x-python",
   "name": "python",
   "nbconvert_exporter": "python",
   "pygments_lexer": "ipython3",
   "version": "3.7.6"
  },
  "orig_nbformat": 2
 },
 "nbformat": 4,
 "nbformat_minor": 2
}