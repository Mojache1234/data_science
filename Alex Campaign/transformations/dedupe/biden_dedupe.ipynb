{
 "metadata": {
  "language_info": {
   "codemirror_mode": {
    "name": "ipython",
    "version": 3
   },
   "file_extension": ".py",
   "mimetype": "text/x-python",
   "name": "python",
   "nbconvert_exporter": "python",
   "pygments_lexer": "ipython3",
   "version": "3.7.6-final"
  },
  "orig_nbformat": 2,
  "kernelspec": {
   "name": "Python 3.7.6 64-bit",
   "display_name": "Python 3.7.6 64-bit",
   "metadata": {
    "interpreter": {
     "hash": "7bbc53da2d95dc41dd8ecbae1ddafb826ff85dd4e742267596895523cce3e7e5"
    }
   }
  }
 },
 "nbformat": 4,
 "nbformat_minor": 2,
 "cells": [
  {
   "cell_type": "code",
   "execution_count": 1,
   "metadata": {},
   "outputs": [],
   "source": [
    "import pandas as pd"
   ]
  },
  {
   "cell_type": "code",
   "execution_count": 2,
   "metadata": {},
   "outputs": [],
   "source": [
    "df = pd.read_csv('BIDEN_DONORS.csv')"
   ]
  },
  {
   "cell_type": "code",
   "execution_count": 3,
   "metadata": {},
   "outputs": [
    {
     "output_type": "execute_result",
     "data": {
      "text/plain": "Index(['committee_id', 'committee_name', 'report_year', 'report_type',\n       'image_number', 'line_number', 'transaction_id', 'file_number',\n       'committee_name.1', 'entity_type', 'entity_type_desc',\n       'unused_contbr_id', 'contributor_prefix', 'contributor_name',\n       'recipient_committee_type', 'recipient_committee_org_type',\n       'recipient_committee_designation', 'contributor_first_name',\n       'contributor_middle_name', 'contributor_last_name',\n       'contributor_suffix', 'contributor_street_1', 'contributor_street_2',\n       'contributor_city', 'contributor_state', 'contributor_zip',\n       'contributor_employer', 'contributor_occupation', 'contributor_id',\n       'receipt_type', 'receipt_type_desc', 'receipt_type_full', 'memo_code',\n       'memo_code_full', 'contribution_receipt_date',\n       'contribution_receipt_amount', 'contributor_aggregate_ytd',\n       'candidate_id', 'candidate_name', 'candidate_first_name',\n       'candidate_last_name', 'candidate_middle_name', 'candidate_prefix',\n       'candidate_suffix', 'candidate_office', 'candidate_office_full',\n       'candidate_office_state', 'candidate_office_state_full',\n       'candidate_office_district', 'conduit_committee_id',\n       'conduit_committee_name', 'conduit_committee_street1',\n       'conduit_committee_street2', 'conduit_committee_city',\n       'conduit_committee_state', 'conduit_committee_zip',\n       'donor_committee_name', 'national_committee_nonfederal_account',\n       'election_type', 'election_type_full', 'fec_election_type_desc',\n       'fec_election_year', 'amendment_indicator', 'amendment_indicator_desc',\n       'schedule_type_full', 'load_date', 'original_sub_id',\n       'back_reference_transaction_id', 'back_reference_schedule_name',\n       'filing_form', 'link_id', 'is_individual', 'memo_text',\n       'two_year_transaction_period', 'schedule_type', 'increased_limit',\n       'sub_id', 'pdf_url', 'line_number_label'],\n      dtype='object')"
     },
     "metadata": {},
     "execution_count": 3
    }
   ],
   "source": [
    "df.columns"
   ]
  },
  {
   "cell_type": "code",
   "execution_count": 15,
   "metadata": {},
   "outputs": [],
   "source": [
    "df2 = df.groupby([\n",
    "    'contributor_first_name',\n",
    "    'contributor_last_name',\n",
    "    'contributor_street_1',\n",
    "    'contributor_street_2',\n",
    "    'contributor_city',\n",
    "    'contributor_state',\n",
    "    'contributor_zip',\n",
    "]).contributor_aggregate_ytd.sum().sort_index(axis=0, level='contributor_last_name', ascending=True).reset_index()"
   ]
  },
  {
   "cell_type": "code",
   "execution_count": 16,
   "metadata": {},
   "outputs": [],
   "source": [
    "df2.columns = [x.replace('contributor_', '') for x in df2.columns]"
   ]
  },
  {
   "cell_type": "code",
   "execution_count": 17,
   "metadata": {},
   "outputs": [
    {
     "output_type": "execute_result",
     "data": {
      "text/plain": "Index(['first_name', 'last_name', 'street_1', 'street_2', 'city', 'state',\n       'zip', 'aggregate_ytd'],\n      dtype='object')"
     },
     "metadata": {},
     "execution_count": 17
    }
   ],
   "source": [
    "df2.columns"
   ]
  },
  {
   "cell_type": "code",
   "execution_count": 18,
   "metadata": {},
   "outputs": [],
   "source": [
    "df2['full_name'] = df2.first_name + ' ' + df2.last_name"
   ]
  },
  {
   "cell_type": "code",
   "execution_count": 20,
   "metadata": {},
   "outputs": [],
   "source": [
    "df2.drop(['first_name', 'last_name'], axis=1, inplace=True)"
   ]
  },
  {
   "cell_type": "code",
   "execution_count": 21,
   "metadata": {},
   "outputs": [],
   "source": [
    "df2.to_csv('BIDEN_DONORS_DEDUPED.csv')"
   ]
  }
 ]
}