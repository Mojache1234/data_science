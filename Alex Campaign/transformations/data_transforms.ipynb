{
 "metadata": {
  "orig_nbformat": 2,
  "kernelspec": {
   "name": "python_defaultSpec_1596993554487",
   "display_name": "Python 3.7.6 64-bit"
  }
 },
 "nbformat": 4,
 "nbformat_minor": 2,
 "cells": [
  {
   "cell_type": "code",
   "execution_count": 28,
   "metadata": {},
   "outputs": [],
   "source": [
    "import pandas as pd"
   ]
  },
  {
   "cell_type": "code",
   "execution_count": 12,
   "metadata": {},
   "outputs": [],
   "source": [
    "df = pd.read_table('./all_voters.xls', sep='\\t')"
   ]
  },
  {
   "cell_type": "code",
   "execution_count": 13,
   "metadata": {},
   "outputs": [],
   "source": [
    "df.columns = [x.replace(' ', '') for x in df.columns]"
   ]
  },
  {
   "cell_type": "code",
   "execution_count": 14,
   "metadata": {},
   "outputs": [
    {
     "output_type": "execute_result",
     "data": {
      "text/plain": "Index(['VoterFileVANID', 'Age', 'LastName', 'FirstName', 'MiddleName',\n       'Suffix', 'Party', 'PrecinctName', 'RaceName', 'Sex', 'Address', 'City',\n       'State', 'Zip5', 'Zip4', 'PreferredEmail', 'PreferredPhone',\n       'RegistrationStatusName', 'DateReg'],\n      dtype='object')"
     },
     "metadata": {},
     "execution_count": 14
    }
   ],
   "source": [
    "df.columns"
   ]
  },
  {
   "cell_type": "code",
   "execution_count": 20,
   "metadata": {},
   "outputs": [],
   "source": [
    "import os\n",
    "\n",
    "\n",
    "def split(filehandler, delimiter=',', row_limit=1000,\n",
    "          output_name_template='output_%s.csv', output_path='.', keep_headers=True):\n",
    "    import csv\n",
    "    reader = csv.reader(filehandler, delimiter=delimiter)\n",
    "    current_piece = 1\n",
    "    current_out_path = os.path.join(\n",
    "        output_path,\n",
    "        output_name_template % current_piece\n",
    "    )\n",
    "    current_out_writer = csv.writer(open(current_out_path, 'w'), delimiter=delimiter)\n",
    "    current_limit = row_limit\n",
    "    if keep_headers:\n",
    "        headers = reader.__next__()\n",
    "        current_out_writer.writerow(headers)\n",
    "    for i, row in enumerate(reader):\n",
    "        if i + 1 > current_limit:\n",
    "            current_piece += 1\n",
    "            current_limit = row_limit * current_piece\n",
    "            current_out_path = os.path.join(\n",
    "                output_path,\n",
    "                output_name_template % current_piece\n",
    "            )\n",
    "            current_out_writer = csv.writer(open(current_out_path, 'w'), delimiter=delimiter)\n",
    "            if keep_headers:\n",
    "                current_out_writer.writerow(headers)\n",
    "        current_out_writer.writerow(row)"
   ]
  },
  {
   "cell_type": "code",
   "execution_count": null,
   "metadata": {},
   "outputs": [],
   "source": [
    "with open('./all_voters.xls') as f:\n",
    "    split(f, delimiter='\\t')"
   ]
  },
  {
   "cell_type": "code",
   "execution_count": 29,
   "metadata": {
    "tags": []
   },
   "outputs": [],
   "source": [
    "all_data = []\n",
    "\n",
    "for i in range(1, 31):\n",
    "    data = pd.read_table('output_{}.csv'.format(i))\n",
    "    transformed_data = data.loc[data.City == 'Fremont']\n",
    "    all_data.append(transformed_data)\n",
    "\n",
    "df1 = pd.concat(all_data)"
   ]
  },
  {
   "cell_type": "code",
   "execution_count": 32,
   "metadata": {},
   "outputs": [],
   "source": [
    "all_data = []\n",
    "\n",
    "for i in range(1, 31):\n",
    "    data = pd.read_table('output_{}.csv'.format(i))\n",
    "    transformed_data = data.loc[data.City == 'Milpitas']\n",
    "    all_data.append(transformed_data)\n",
    "\n",
    "df2 = pd.concat(all_data)"
   ]
  },
  {
   "cell_type": "code",
   "execution_count": 43,
   "metadata": {},
   "outputs": [],
   "source": [
    "all_data = []\n",
    "\n",
    "for i in range(1, 31):\n",
    "    data = pd.read_table('output_{}.csv'.format(i))\n",
    "    transformed_data = data.loc[data.City == 'San Jose']\n",
    "    all_data.append(transformed_data)\n",
    "\n",
    "df3 = pd.concat(all_data)"
   ]
  },
  {
   "cell_type": "code",
   "execution_count": 51,
   "metadata": {},
   "outputs": [],
   "source": [
    "all_data = []\n",
    "\n",
    "for i in range(1, 31):\n",
    "    data = pd.read_table('output_{}.csv'.format(i))\n",
    "    transformed_data = data.loc[pd.to_datetime(data['DateReg ']).dt.year == 2020]\n",
    "    all_data.append(transformed_data)\n",
    "\n",
    "df4 = pd.concat(all_data)"
   ]
  },
  {
   "cell_type": "code",
   "execution_count": 55,
   "metadata": {},
   "outputs": [],
   "source": [
    "df4.to_csv('./new_registrants.csv')"
   ]
  }
 ]
}